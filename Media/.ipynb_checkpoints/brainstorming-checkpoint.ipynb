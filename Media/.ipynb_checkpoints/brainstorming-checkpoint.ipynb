{
 "cells": [
  {
   "cell_type": "markdown",
   "id": "5449c1b2-3fa6-496e-88a4-dd8165f7f665",
   "metadata": {},
   "source": [
    "## Silence mechanisms, memory extensions, and parameter explorations\n",
    "\n",
    "Adapting the Silence implementation from Sohn 2025"
   ]
  },
  {
   "cell_type": "code",
   "execution_count": 7,
   "id": "f8fc4fe0-0c6b-44df-9c8f-98b6cc08aa70",
   "metadata": {},
   "outputs": [],
   "source": [
    "import numpy as np\n",
    "totalN = 10000\n",
    "supportersN = 0\n",
    "for supportersN in range(0, totalN, 500):\n",
    "    opponentsN = totalN - supportersN\n",
    "    delta = (supportersN - opponentsN)/totalN\n",
    "    for alpha in np.arange(0, 1, 0.05):\n",
    "        for delta2 in np.arange(-1, 1, 0.05):\n",
    "            expression = alpha*delta + (1 - alpha)*delta2\n",
    "            if(expression < -1 or expression > 1):\n",
    "                print(f\"For alpha of {alpha} we have delta: {delta} and expression{expression}\")"
   ]
  }
 ],
 "metadata": {
  "kernelspec": {
   "display_name": "Python 3 (ipykernel)",
   "language": "python",
   "name": "python3"
  },
  "language_info": {
   "codemirror_mode": {
    "name": "ipython",
    "version": 3
   },
   "file_extension": ".py",
   "mimetype": "text/x-python",
   "name": "python",
   "nbconvert_exporter": "python",
   "pygments_lexer": "ipython3",
   "version": "3.13.5"
  }
 },
 "nbformat": 4,
 "nbformat_minor": 5
}
